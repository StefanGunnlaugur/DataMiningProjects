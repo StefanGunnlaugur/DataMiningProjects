{
 "cells": [
  {
   "cell_type": "code",
   "execution_count": 3,
   "metadata": {},
   "outputs": [],
   "source": [
    "import pandas as pd \n",
    "import numpy as np"
   ]
  },
  {
   "cell_type": "code",
   "execution_count": 4,
   "metadata": {},
   "outputs": [],
   "source": [
    "def sigmoid(x):\n",
    "    return 1 / (1 + exp(-x))\n",
    "\n",
    "def derivative_sigmoid(x):\n",
    "    return (x * (1-x))\n",
    "\n",
    "def relu(x):\n",
    "    return max(0, x)\n"
   ]
  },
  {
   "cell_type": "code",
   "execution_count": null,
   "metadata": {},
   "outputs": [],
   "source": [
    "input_layer_size = 2\n",
    "hidden_layer_size = 10\n",
    "output_layer_size = 1 \n",
    "\n",
    "alpha = 0.01 \n",
    "batch_size = 10"
   ]
  },
  {
   "cell_type": "code",
   "execution_count": null,
   "metadata": {},
   "outputs": [],
   "source": [
    "weights1 = \n",
    "bias1 =\n",
    "weights2 = \n",
    "bias2 =\n",
    "weights3 = \n",
    "bias3 =\n",
    "weights4 = \n",
    "bias4 ="
   ]
  },
  {
   "cell_type": "code",
   "execution_count": null,
   "metadata": {},
   "outputs": [],
   "source": [
    "X_test = pd.read_excel(\"HW3Avalidate.xlsx\") \n",
    "X_train = pd.read_excel(\"HW3Atrain.xlsx\") \n",
    "\n",
    "\n",
    "h0 = np.dot(X, weights1) + bias1\n",
    "phi1 = relu(h0)\n",
    "\n",
    "h1 = np.dot(phi1, weights2) + bias2\n",
    "phi2 = relu(h1)\n",
    "\n",
    "h2 = np.dot(phi2, weights3) + bias3\n",
    "phi3 = relu(h2)\n",
    "\n",
    "h3 = np.dot(phi3, weights4) + bias4\n",
    "phi4 = sigmoid(h3)\n",
    "\n",
    "\n",
    "#print(X_train)"
   ]
  },
  {
   "cell_type": "code",
   "execution_count": null,
   "metadata": {},
   "outputs": [],
   "source": []
  }
 ],
 "metadata": {
  "kernelspec": {
   "display_name": "Python 3",
   "language": "python",
   "name": "python3"
  },
  "language_info": {
   "codemirror_mode": {
    "name": "ipython",
    "version": 3
   },
   "file_extension": ".py",
   "mimetype": "text/x-python",
   "name": "python",
   "nbconvert_exporter": "python",
   "pygments_lexer": "ipython3",
   "version": "3.7.3"
  }
 },
 "nbformat": 4,
 "nbformat_minor": 2
}
