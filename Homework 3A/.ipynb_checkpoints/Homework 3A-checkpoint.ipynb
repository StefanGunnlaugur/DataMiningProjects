{
 "cells": [
  {
   "cell_type": "code",
   "execution_count": 3,
   "metadata": {},
   "outputs": [],
   "source": [
    "import pandas as pd \n",
    "import numpy as np"
   ]
  },
  {
   "cell_type": "code",
   "execution_count": 88,
   "metadata": {},
   "outputs": [],
   "source": [
    "def sigmoid(x):\n",
    "    return 1 / (1 + np.exp(-x))\n",
    "\n",
    "def derivative_sigmoid(x):\n",
    "    return (x * (1-x))\n",
    "\n",
    "def relu(x):\n",
    "    '''\n",
    "    for i in range(x.shape[0]):\n",
    "        for a in range(x.shape[1]):\n",
    "            x[i][a] = max(0, x[i][a])\n",
    "    '''\n",
    "    return x\n"
   ]
  },
  {
   "cell_type": "code",
   "execution_count": 61,
   "metadata": {},
   "outputs": [],
   "source": [
    "input_layer_size = 2\n",
    "hidden_layer_size = 10\n",
    "output_layer_size = 1 \n",
    "\n",
    "alpha = 0.01 \n",
    "batch_size = 10"
   ]
  },
  {
   "cell_type": "code",
   "execution_count": 103,
   "metadata": {},
   "outputs": [
    {
     "name": "stdout",
     "output_type": "stream",
     "text": [
      "          X_0       X_1\n",
      "0    0.291484  0.328300\n",
      "1    0.187760  0.075766\n",
      "2    0.419723  0.153595\n",
      "3    0.818876  0.984258\n",
      "4    0.964023  0.618977\n",
      "5    0.404705  0.013950\n",
      "6    0.239213  0.626585\n",
      "7    0.592351  0.775671\n",
      "8    0.182069  0.128045\n",
      "9    0.159854  0.644195\n",
      "10   0.933978  0.154449\n",
      "11   0.854341  0.883780\n",
      "12   0.940896  0.988435\n",
      "13   0.699254  0.711579\n",
      "14   0.836349  0.657758\n",
      "15   0.295432  0.172721\n",
      "16   0.349698  0.719603\n",
      "17   0.979065  0.019471\n",
      "18   0.335885  0.917051\n",
      "19   0.145178  0.766127\n",
      "20   0.230156  0.288229\n",
      "21   0.162739  0.984037\n",
      "22   0.580415  0.022095\n",
      "23   0.383362  0.202267\n",
      "24   0.093169  0.261978\n",
      "25   0.698161  0.772545\n",
      "26   0.723117  0.927941\n",
      "27   0.082817  0.130123\n",
      "28   0.049023  0.914485\n",
      "29   0.314648  0.587634\n",
      "..        ...       ...\n",
      "380  0.133849  0.041549\n",
      "381  0.931310  0.578506\n",
      "382  0.845166  0.829769\n",
      "383  0.653198  0.750462\n",
      "384  0.800886  0.572887\n",
      "385  0.847550  0.641458\n",
      "386  0.080009  0.287252\n",
      "387  0.307639  0.879208\n",
      "388  0.104123  0.161721\n",
      "389  0.129977  0.106602\n",
      "390  0.188667  0.672769\n",
      "391  0.363741  0.996417\n",
      "392  0.623332  0.781294\n",
      "393  0.410756  0.874754\n",
      "394  0.034456  0.928633\n",
      "395  0.886834  0.590541\n",
      "396  0.162345  0.773171\n",
      "397  0.964762  0.219331\n",
      "398  0.579978  0.854902\n",
      "399  0.159314  0.592291\n",
      "400  0.077831  0.895273\n",
      "401  0.328988  0.641125\n",
      "402  0.594811  0.215920\n",
      "403  0.050265  0.375684\n",
      "404  0.809869  0.029397\n",
      "405  0.132923  0.786570\n",
      "406  0.417133  0.594249\n",
      "407  0.191496  0.056499\n",
      "408  0.108635  0.432152\n",
      "409  0.565968  0.282988\n",
      "\n",
      "[410 rows x 2 columns]\n"
     ]
    }
   ],
   "source": [
    "data_test = pd.read_excel(\"HW3Avalidate.xlsx\") \n",
    "data_train = pd.read_excel(\"HW3Atrain.xlsx\")\n",
    "\n",
    "X_train = data_train.copy()\n",
    "X_train = X_train.drop('y', axis=1)\n",
    "Y_train = data_train.copy()\n",
    "Y_train = Y_train.drop('X_0', axis=1)\n",
    "Y_train = Y_train.drop('X_1', axis=1)\n",
    "\n",
    "X_test = data_test.copy()\n",
    "X_test = X_test.drop('y', axis=1)\n",
    "Y_test = data_test.copy()\n",
    "Y_test = Y_test.drop('X_0', axis=1)\n",
    "Y_test = Y_test.drop('X_1', axis=1)\n",
    "\n",
    "\n",
    "x_0_min = min(X_train['X_0'])\n",
    "x_0_max = max(X_train['X_0'])\n",
    "\n",
    "x_1_min = min(X_train['X_1'])\n",
    "x_1_max = max(X_train['X_1'])\n",
    "\n",
    "test_x_0_min = min(X_test['X_0'])\n",
    "test_x_0_max = max(X_test['X_0'])\n",
    "\n",
    "test_x_1_min = min(X_test['X_1'])\n",
    "test_x_1_max = max(X_test['X_1'])\n",
    "\n",
    "for i in range(len(X_train['X_0'])):\n",
    "    X_train['X_0'][i] = (X_train['X_0'][i]-x_0_min)/(x_0_max-x_0_min) #formula used for Min-Max\n",
    "    X_train['X_1'][i] = (X_train['X_1'][i]-x_1_min)/(x_1_max-x_1_min) #formula used for Min-Max\n",
    "    \n",
    "for i in range(len(X_test['X_0'])):\n",
    "    X_test['X_0'][i] = (X_test['X_0'][i]-x_0_min)/(x_0_max-x_0_min) #formula used for Min-Max\n",
    "    X_test['X_1'][i] = (X_test['X_1'][i]-x_1_min)/(x_1_max-x_1_min) #formula used for Min-Max\n",
    "\n",
    "print(X_train)"
   ]
  },
  {
   "cell_type": "code",
   "execution_count": 105,
   "metadata": {},
   "outputs": [
    {
     "name": "stdout",
     "output_type": "stream",
     "text": [
      "[0.40258729 0.33913821 0.20340017 0.38690172 0.47772495 0.38294366\n",
      " 0.55335535 0.17351475 0.49721804 0.32691316]\n",
      "[1.50643791 2.29488222 2.26812969 1.93432024 2.21634157 1.46096684\n",
      " 2.42312928 2.04057428 1.36470959 1.91678738]\n",
      "[8.64712745 8.68056815]\n",
      "[0.9998244  0.99983017]\n"
     ]
    }
   ],
   "source": [
    "class Network_layer:\n",
    "    weights = []\n",
    "    bias = []\n",
    "    def __init__(self, dim1, dim2):\n",
    "        #self.size = size\n",
    "        self.weights = np.random.rand(dim1,dim2)\n",
    "        self.bias = np.random.rand(dim1,dim2)\n",
    "    \n",
    "\n",
    "class Neaural_net:\n",
    "    hidden_layers = []\n",
    "    def __init__(self, shape):\n",
    "        input_layer = np.zeros((1, shape[0]))\n",
    "        for i in range(1, len(shape)):\n",
    "            self.hidden_layers.append(Network_layer(shape[i-1], shape[i]))\n",
    "        output_layer = np.zeros((1, shape[len(shape)-1]))\n",
    "    \n",
    "    def forward_pass(self, X):\n",
    "        curr_input = X\n",
    "        for i in range(len(self.hidden_layers)):\n",
    "            #print(curr_input.shape, self.hidden_layers[i].weights.shape)\n",
    "            h = np.dot(curr_input, self.hidden_layers[i].weights) #+ self.hidden_layers[i].bias\n",
    "            if i != len(self.hidden_layers):\n",
    "                phi = relu(h)\n",
    "                curr_input = phi\n",
    "            else:\n",
    "                curr_input = h\n",
    "            print(curr_input)\n",
    "        \n",
    "        output = sigmoid(curr_input)\n",
    "        \n",
    "        return output\n",
    "\n",
    "        \n",
    "    #def back_propigation():\n",
    "           \n",
    "    def train(X_train):\n",
    "        for i in X_train:\n",
    "            pred = forward_pass(i)\n",
    "            print(pred)\n",
    "            \n",
    "            \n",
    "a = np.random.randn(2,10)\n",
    "b = np.random.randn(10,10)\n",
    "d = np.dot(a,b)\n",
    "#print(d)\n",
    "        \n",
    "shape = [2,10,10,2]\n",
    "NN = Neaural_net(shape)\n",
    "#print([X_train['X_0'][0],X_train['X_1'][0]])\n",
    "x = [X_train['X_0'][0],X_train['X_1'][0]]\n",
    "test = np.asarray(x)\n",
    "print(NN.forward_pass(test))"
   ]
  },
  {
   "cell_type": "code",
   "execution_count": 106,
   "metadata": {},
   "outputs": [
    {
     "name": "stdout",
     "output_type": "stream",
     "text": [
      "(2, 10)\n",
      "[0.51616792 0.80169241 1.01952228 0.2981163  0.88176062 1.28289377\n",
      " 1.81173666 1.95394503 2.10882822 1.02940726]\n"
     ]
    }
   ],
   "source": [
    "a = np.array([1,2])\n",
    "b = np.array([1,2,3,4,5,6,7,8,9,10])\n",
    "b = np.random.rand(a.shape[0],10)\n",
    "print(b.shape)\n",
    "print(np.dot(a,b))\n"
   ]
  },
  {
   "cell_type": "code",
   "execution_count": 36,
   "metadata": {},
   "outputs": [
    {
     "name": "stdout",
     "output_type": "stream",
     "text": [
      "             X_0          X_1  y\n",
      "0    2917.211242  3289.522533  0\n",
      "1    1888.937716   781.528356  0\n",
      "2    4188.521414  1554.476261  0\n",
      "3    8145.555339  9804.066728  0\n",
      "4    9584.488981  6176.337189  0\n",
      "5    4039.633757   167.607143  0\n",
      "6    2399.020781  6251.891672  1\n",
      "7    5899.876835  7732.514778  0\n",
      "8    1832.517788  1300.730270  0\n",
      "9    1612.288975  6426.781763  1\n",
      "10   9286.626998  1562.956170  1\n",
      "11   8497.141947  8806.179833  0\n",
      "12   9355.215737  9845.547425  0\n",
      "13   6959.671139  7096.002717  1\n",
      "14   8318.774203  6561.487762  0\n",
      "15   2956.353881  1744.414739  0\n",
      "16   3494.320864  7175.690252  1\n",
      "17   9733.605268   222.444205  1\n",
      "18   3357.382654  9136.605932  1\n",
      "19   1466.794269  7637.730334  0\n",
      "20   2309.226297  2891.563126  0\n",
      "21   1640.887579  9801.869658  1\n",
      "22   5781.556560   248.504846  1\n",
      "23   3828.052410  2037.851361  0\n",
      "24    951.195475  2630.862744  0\n",
      "25   6948.834627  7701.470309  0\n",
      "26   7196.243632  9244.761921  0\n",
      "27    848.571206  1321.366007  0\n",
      "28    513.550491  9111.127856  1\n",
      "29   3146.851248  5865.060183  1\n",
      "..           ...          ... ..\n",
      "380  1354.479525   441.703601  0\n",
      "381  9260.183585  5774.402365  0\n",
      "382  8406.182725  8269.783190  0\n",
      "383  6503.097371  7482.153613  0\n",
      "384  7967.216126  5718.601756  0\n",
      "385  8429.821163  6399.605653  0\n",
      "386   820.737586  2881.869380  0\n",
      "387  3077.360989  8760.779859  1\n",
      "388  1059.786065  1635.171714  0\n",
      "389  1316.094041  1087.774188  0\n",
      "390  1897.924554  6710.567510  0\n",
      "391  3633.539851  9924.821213  1\n",
      "392  6207.019150  7788.362690  0\n",
      "393  4099.626829  8716.546133  1\n",
      "394   369.139194  9251.637157  1\n",
      "395  8819.261828  5893.924605  0\n",
      "396  1636.984145  7707.691392  1\n",
      "397  9591.814449  2207.322915  1\n",
      "398  5777.221351  8519.385712  0\n",
      "399  1606.933140  5911.313525  1\n",
      "400   799.139624  8920.322918  1\n",
      "401  3289.006632  6396.295332  1\n",
      "402  5924.272476  2173.446122  1\n",
      "403   525.864245  3760.108926  0\n",
      "404  8056.268167   321.017245  1\n",
      "405  1345.301027  7840.762858  1\n",
      "406  4162.846469  5930.753704  1\n",
      "407  1925.967024   590.183805  0\n",
      "408  1104.523856  4320.915987  0\n",
      "409  5638.326812  2839.513746  1\n",
      "\n",
      "[410 rows x 3 columns]\n"
     ]
    }
   ],
   "source": [
    "X_test = pd.read_excel(\"HW3Avalidate.xlsx\") \n",
    "X_train = pd.read_excel(\"HW3Atrain.xlsx\") \n",
    "\n",
    "'''\n",
    "h0 = np.dot(X, weights1) + bias1\n",
    "phi1 = relu(h0)\n",
    "\n",
    "h1 = np.dot(phi1, weights2) + bias2\n",
    "phi2 = relu(h1)\n",
    "\n",
    "h2 = np.dot(phi2, weights3) + bias3\n",
    "phi3 = relu(h2)\n",
    "\n",
    "h3 = np.dot(phi3, weights4) + bias4\n",
    "phi4 = sigmoid(h3)\n",
    "'''\n",
    "\n",
    "print(X_train)"
   ]
  },
  {
   "cell_type": "markdown",
   "metadata": {},
   "source": [
    "## 1. (10 points) Activation and Loss functions. \n",
    "Please choose suitable activation functions φ(0), φ(1), φ(2) and a suitable Loss function to perform the task. Report and justify your choices in the report."
   ]
  },
  {
   "cell_type": "markdown",
   "metadata": {},
   "source": []
  },
  {
   "cell_type": "markdown",
   "metadata": {},
   "source": [
    "## 2. (10 points) Learning rate, batch size, initialization. \n",
    "Please choose a suitable learning rate, batch size, initialization of the parameter values, and any other setting you may need. Discuss and justify your choices in the report."
   ]
  },
  {
   "cell_type": "markdown",
   "metadata": {},
   "source": []
  },
  {
   "cell_type": "markdown",
   "metadata": {},
   "source": [
    "## 3. (10 points) Training. \n",
    "Make plots with the loss function computed over the training set and over the validation set. Stop the training when the error is small enough. Justify your stopping criterium. Report the final accuracy obtained and the confusion matrix on the validation dataset."
   ]
  },
  {
   "cell_type": "markdown",
   "metadata": {},
   "source": []
  },
  {
   "cell_type": "markdown",
   "metadata": {},
   "source": [
    "## 4. (20 points) Implementation. \n",
    "We will run and check the uploaded Python file. To obtain the points for this subproblem, the Python file has to run (no errors) and the MLP model and the Backpropagation algorithm have to be implemented completely from scratch by you. You are not allowed to use any library which implements MLP models, but you are allowed to use auxiliary libraries, e.g. Numpy, Matplotlib, Pandas."
   ]
  },
  {
   "cell_type": "markdown",
   "metadata": {},
   "source": []
  },
  {
   "cell_type": "markdown",
   "metadata": {},
   "source": [
    "## II. Peer Review paragraph (0 points)\n",
    "Finally, each group member must write a single paragraph outlining their opinion on the work distri- bution within the group. Did every group member contribute equally? Did you split up tasks in a fair manner, or jointly worked through the exercises. Do you think that some members of your group deserve a different grade from others?"
   ]
  },
  {
   "cell_type": "markdown",
   "metadata": {},
   "source": []
  }
 ],
 "metadata": {
  "kernelspec": {
   "display_name": "Python 3",
   "language": "python",
   "name": "python3"
  },
  "language_info": {
   "codemirror_mode": {
    "name": "ipython",
    "version": 3
   },
   "file_extension": ".py",
   "mimetype": "text/x-python",
   "name": "python",
   "nbconvert_exporter": "python",
   "pygments_lexer": "ipython3",
   "version": "3.7.3"
  }
 },
 "nbformat": 4,
 "nbformat_minor": 2
}
